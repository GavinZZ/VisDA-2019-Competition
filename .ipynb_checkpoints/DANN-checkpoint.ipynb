{
 "cells": [
  {
   "cell_type": "markdown",
   "metadata": {
    "colab_type": "text",
    "id": "wCdWj_Ww36Bq"
   },
   "source": [
    "# Implementation of DANN\n",
    "Reference: https://arxiv.org/pdf/1505.07818.pdf"
   ]
  },
  {
   "cell_type": "code",
   "execution_count": 1,
   "metadata": {
    "colab": {},
    "colab_type": "code",
    "collapsed": true,
    "id": "55U-5Nwk36Bw"
   },
   "outputs": [],
   "source": [
    "import torch\n",
    "import torchvision\n",
    "import torch.nn as nn"
   ]
  },
  {
   "cell_type": "code",
   "execution_count": 2,
   "metadata": {
    "colab": {
     "base_uri": "https://localhost:8080/",
     "height": 35
    },
    "colab_type": "code",
    "id": "O5SHeDH24HnX",
    "outputId": "18ece497-0d25-4b69-e041-d280ca5ddc8e"
   },
   "outputs": [
    {
     "data": {
      "text/plain": [
       "'1.0.0'"
      ]
     },
     "execution_count": 2,
     "metadata": {},
     "output_type": "execute_result"
    }
   ],
   "source": [
    "torch.__version__"
   ]
  },
  {
   "cell_type": "code",
   "execution_count": 3,
   "metadata": {
    "colab": {},
    "colab_type": "code",
    "collapsed": true,
    "id": "cGHr9W5o36Bz"
   },
   "outputs": [],
   "source": [
    "from torch.utils.data import DataLoader\n",
    "from torchvision import datasets\n",
    "from torchvision import transforms"
   ]
  },
  {
   "cell_type": "code",
   "execution_count": 4,
   "metadata": {
    "colab": {},
    "colab_type": "code",
    "collapsed": true,
    "id": "3S7AK3Pa36B1"
   },
   "outputs": [],
   "source": [
    "import numpy as np\n",
    "import datetime\n",
    "import os, sys"
   ]
  },
  {
   "cell_type": "code",
   "execution_count": 5,
   "metadata": {
    "colab": {},
    "colab_type": "code",
    "collapsed": true,
    "id": "iTNg8OmY36B4"
   },
   "outputs": [],
   "source": [
    "from matplotlib.pyplot import imshow, imsave\n",
    "%matplotlib inline"
   ]
  },
  {
   "cell_type": "code",
   "execution_count": 6,
   "metadata": {
    "colab": {},
    "colab_type": "code",
    "collapsed": true,
    "id": "d_hVsBuF36B7"
   },
   "outputs": [],
   "source": [
    "MODEL_NAME = 'DANN'\n",
    "DEVICE = torch.device(\"cuda\" if torch.cuda.is_available() else \"cpu\")"
   ]
  },
  {
   "cell_type": "code",
   "execution_count": 7,
   "metadata": {
    "colab": {},
    "colab_type": "code",
    "collapsed": true,
    "id": "9OcpKYmx36CH"
   },
   "outputs": [],
   "source": [
    "class FeatureExtractor(nn.Module):\n",
    "    \"\"\"\n",
    "        Feature Extractor\n",
    "    \"\"\"\n",
    "    def __init__(self, in_channel=1, hidden_dims=512):\n",
    "        super(FeatureExtractor, self).__init__()\n",
    "        self.conv = nn.Sequential(\n",
    "            nn.Conv2d(in_channel, 64, 3, padding=1),\n",
    "            nn.BatchNorm2d(64),\n",
    "            nn.ReLU(inplace=True),\n",
    "            nn.Conv2d(64, 128, 3, padding=1),\n",
    "            nn.BatchNorm2d(128),\n",
    "            nn.ReLU(inplace=True),\n",
    "            nn.Conv2d(128, 256, 3, padding=1),\n",
    "            nn.BatchNorm2d(256),\n",
    "            nn.ReLU(inplace=True),\n",
    "            nn.Conv2d(256, 256, 3, padding=1),\n",
    "            nn.BatchNorm2d(256),\n",
    "            nn.ReLU(inplace=True),\n",
    "            nn.Conv2d(256, hidden_dims, 3, padding=1),\n",
    "            nn.BatchNorm2d(hidden_dims),\n",
    "            nn.ReLU(inplace=True),\n",
    "            nn.AdaptiveAvgPool2d((1,1)),\n",
    "        )\n",
    "        \n",
    "    def forward(self, x):\n",
    "        h = self.conv(x).squeeze() # (N, hidden_dims)\n",
    "        return h"
   ]
  },
  {
   "cell_type": "code",
   "execution_count": 8,
   "metadata": {
    "colab": {},
    "colab_type": "code",
    "collapsed": true,
    "id": "c-1JVlFr95C8"
   },
   "outputs": [],
   "source": [
    "class Classifier(nn.Module):\n",
    "    \"\"\"\n",
    "        Classifier\n",
    "    \"\"\"\n",
    "    def __init__(self, input_size=512, num_classes=10):\n",
    "        super(Classifier, self).__init__()\n",
    "        self.layer = nn.Sequential(\n",
    "            nn.Linear(input_size, 256),\n",
    "            nn.ReLU(inplace=True),\n",
    "            nn.Linear(256, num_classes),\n",
    "        )\n",
    "        \n",
    "    def forward(self, h):\n",
    "        c = self.layer(h)\n",
    "        return c"
   ]
  },
  {
   "cell_type": "code",
   "execution_count": 9,
   "metadata": {
    "colab": {},
    "colab_type": "code",
    "collapsed": true,
    "id": "CnxcDAu336CD"
   },
   "outputs": [],
   "source": [
    "class Discriminator(nn.Module):\n",
    "    \"\"\"\n",
    "        Simple Discriminator w/ MLP\n",
    "    \"\"\"\n",
    "    def __init__(self, input_size=512, num_classes=1):\n",
    "        super(Discriminator, self).__init__()\n",
    "        self.layer = nn.Sequential(\n",
    "            nn.Linear(input_size, 256),\n",
    "            nn.LeakyReLU(0.2),\n",
    "            nn.Linear(256, 128),\n",
    "            nn.LeakyReLU(0.2),\n",
    "            nn.Linear(128, num_classes),\n",
    "            nn.Sigmoid(),\n",
    "        )\n",
    "    \n",
    "    def forward(self, h):\n",
    "        y = self.layer(h)\n",
    "        return y"
   ]
  },
  {
   "cell_type": "code",
   "execution_count": 10,
   "metadata": {
    "colab": {},
    "colab_type": "code",
    "collapsed": true,
    "id": "rmaidaPO36CQ"
   },
   "outputs": [],
   "source": [
    "F = FeatureExtractor().to(DEVICE)\n",
    "C = Classifier().to(DEVICE)\n",
    "D = Discriminator().to(DEVICE)"
   ]
  },
  {
   "cell_type": "code",
   "execution_count": 11,
   "metadata": {
    "colab": {},
    "colab_type": "code",
    "collapsed": true,
    "id": "-zhMZpPc36CT"
   },
   "outputs": [],
   "source": [
    "transform = transforms.Compose([\n",
    "    transforms.Grayscale(1),\n",
    "    transforms.Resize(28),\n",
    "    transforms.ToTensor(),\n",
    "    transforms.Normalize(mean=[0.5],\n",
    "                         std=[0.5])\n",
    "])"
   ]
  },
  {
   "cell_type": "code",
   "execution_count": 12,
   "metadata": {
    "colab": {},
    "colab_type": "code",
    "id": "dctQjVmy36CX"
   },
   "outputs": [],
   "source": [
    "mnist_train = datasets.MNIST(root='../data/', train=True, transform=transform, download=True)\n",
    "mnist_test = datasets.MNIST(root='../data/', train=False, transform=transform, download=True)"
   ]
  },
  {
   "cell_type": "code",
   "execution_count": 13,
   "metadata": {
    "colab": {
     "base_uri": "https://localhost:8080/",
     "height": 53
    },
    "colab_type": "code",
    "id": "0GRgUyko4Yf8",
    "outputId": "8d5d6e2f-8a02-431f-80ef-f1f1583bc5b6"
   },
   "outputs": [
    {
     "name": "stdout",
     "output_type": "stream",
     "text": [
      "Using downloaded and verified file: ../data/train_32x32.mat\n",
      "Using downloaded and verified file: ../data/test_32x32.mat\n"
     ]
    }
   ],
   "source": [
    "svhn_train = datasets.SVHN(root='../data/', split='train', transform=transform, download=True)\n",
    "svhn_test = datasets.SVHN(root='../data/', split='test', transform=transform, download=True)"
   ]
  },
  {
   "cell_type": "code",
   "execution_count": 14,
   "metadata": {
    "colab": {},
    "colab_type": "code",
    "collapsed": true,
    "id": "k-yZsYK_36Ca"
   },
   "outputs": [],
   "source": [
    "batch_size = 64"
   ]
  },
  {
   "cell_type": "code",
   "execution_count": 15,
   "metadata": {
    "colab": {
     "base_uri": "https://localhost:8080/",
     "height": 35
    },
    "colab_type": "code",
    "id": "Nf_BypcP62yb",
    "outputId": "840bf031-34c1-4e69-859d-1665f4a7b86e"
   },
   "outputs": [
    {
     "data": {
      "text/plain": [
       "(73257, 3, 32, 32)"
      ]
     },
     "execution_count": 15,
     "metadata": {},
     "output_type": "execute_result"
    }
   ],
   "source": [
    "svhn_train.data.shape"
   ]
  },
  {
   "cell_type": "code",
   "execution_count": 16,
   "metadata": {
    "colab": {},
    "colab_type": "code",
    "collapsed": true,
    "id": "bNGJwRYq36Cc"
   },
   "outputs": [],
   "source": [
    "svhn_loader = DataLoader(dataset=svhn_train, batch_size=batch_size, shuffle=True, drop_last=True)\n",
    "mnist_loader = DataLoader(dataset=mnist_train, batch_size=batch_size, shuffle=True, drop_last=True)\n",
    "eval_loader = DataLoader(dataset=svhn_test, batch_size=batch_size, shuffle=False, drop_last=False)\n",
    "test_loader = DataLoader(dataset=mnist_test, batch_size=batch_size, shuffle=False, drop_last=False)"
   ]
  },
  {
   "cell_type": "code",
   "execution_count": 17,
   "metadata": {
    "colab": {},
    "colab_type": "code",
    "collapsed": true,
    "id": "-BvTO5_CCoRj"
   },
   "outputs": [],
   "source": [
    "bce = nn.BCELoss()\n",
    "xe = nn.CrossEntropyLoss()"
   ]
  },
  {
   "cell_type": "code",
   "execution_count": 18,
   "metadata": {
    "colab": {},
    "colab_type": "code",
    "collapsed": true,
    "id": "dx-hu7Kx36Ch"
   },
   "outputs": [],
   "source": [
    "F_opt = torch.optim.Adam(F.parameters())\n",
    "C_opt = torch.optim.Adam(C.parameters())\n",
    "D_opt = torch.optim.Adam(D.parameters())"
   ]
  },
  {
   "cell_type": "code",
   "execution_count": 19,
   "metadata": {
    "colab": {},
    "colab_type": "code",
    "collapsed": true,
    "id": "UZ4BHnuu36Co"
   },
   "outputs": [],
   "source": [
    "max_epoch = 50\n",
    "step = 0\n",
    "n_critic = 1 # for training more k steps about Discriminator\n",
    "n_batches = len(mnist_train)//batch_size\n",
    "# lamda = 0.01"
   ]
  },
  {
   "cell_type": "code",
   "execution_count": 20,
   "metadata": {
    "colab": {},
    "colab_type": "code",
    "collapsed": true,
    "id": "BUHf3Inf36Cs"
   },
   "outputs": [],
   "source": [
    "D_src = torch.ones(batch_size, 1).to(DEVICE) # Discriminator Label to real\n",
    "D_tgt = torch.zeros(batch_size, 1).to(DEVICE) # Discriminator Label to fake\n",
    "D_labels = torch.cat([D_src, D_tgt], dim=0)"
   ]
  },
  {
   "cell_type": "markdown",
   "metadata": {
    "colab_type": "text",
    "id": "uiCXVKq236Cz"
   },
   "source": [
    "### Training Code\n",
    "\n"
   ]
  },
  {
   "cell_type": "code",
   "execution_count": 21,
   "metadata": {
    "colab": {},
    "colab_type": "code",
    "collapsed": true,
    "id": "AzcPZLsnUACQ"
   },
   "outputs": [],
   "source": [
    "def get_lambda(epoch, max_epoch):\n",
    "    p = epoch / max_epoch\n",
    "    return 2. / (1+np.exp(-10.*p)) - 1."
   ]
  },
  {
   "cell_type": "code",
   "execution_count": 22,
   "metadata": {
    "colab": {},
    "colab_type": "code",
    "collapsed": true,
    "id": "KrX9TTe8BLLP"
   },
   "outputs": [],
   "source": [
    "mnist_set = iter(mnist_loader)\n",
    "\n",
    "def sample_mnist(step, n_batches):\n",
    "    global mnist_set\n",
    "    if step % n_batches == 0:\n",
    "        mnist_set = iter(mnist_loader)\n",
    "    return mnist_set.next()"
   ]
  },
  {
   "cell_type": "code",
   "execution_count": 23,
   "metadata": {
    "collapsed": true
   },
   "outputs": [],
   "source": [
    "ll_c, ll_d = [], []\n",
    "acc_lst = []"
   ]
  },
  {
   "cell_type": "code",
   "execution_count": 24,
   "metadata": {
    "colab": {
     "base_uri": "https://localhost:8080/",
     "height": 1000
    },
    "colab_type": "code",
    "id": "Q_htVI_VFwJ3",
    "outputId": "d571460c-dff5-46c6-dffa-fbd7396aba16",
    "scrolled": false
   },
   "outputs": [
    {
     "name": "stdout",
     "output_type": "stream",
     "text": [
      "Epoch: 1/50, Step: 0, D Loss: 0.6522, C Loss: 2.3132, lambda: 0.0100 ---- 05:01:31\n",
      "***** Eval Result: 0.0776, Step: 0\n",
      "***** Test Result: 0.1028, Step: 0\n",
      "Epoch: 1/50, Step: 100, D Loss: 0.0076, C Loss: 2.2316, lambda: 0.0100 ---- 05:01:53\n",
      "Epoch: 1/50, Step: 200, D Loss: 0.5378, C Loss: 2.2189, lambda: 0.0100 ---- 05:02:05\n",
      "Epoch: 1/50, Step: 300, D Loss: 0.0191, C Loss: 2.0384, lambda: 0.0100 ---- 05:02:16\n",
      "Epoch: 1/50, Step: 400, D Loss: 0.0017, C Loss: 2.0873, lambda: 0.0100 ---- 05:02:28\n",
      "Epoch: 1/50, Step: 500, D Loss: 0.0008, C Loss: 1.9332, lambda: 0.0100 ---- 05:02:39\n",
      "***** Eval Result: 0.2978, Step: 500\n",
      "***** Test Result: 0.1208, Step: 500\n",
      "Epoch: 1/50, Step: 600, D Loss: 0.0010, C Loss: 2.2156, lambda: 0.0100 ---- 05:03:03\n",
      "Epoch: 1/50, Step: 700, D Loss: 0.0036, C Loss: 1.9834, lambda: 0.0100 ---- 05:03:14\n",
      "Epoch: 1/50, Step: 800, D Loss: 0.0011, C Loss: 1.8168, lambda: 0.0100 ---- 05:03:26\n",
      "Epoch: 1/50, Step: 900, D Loss: 0.0081, C Loss: 1.7745, lambda: 0.0100 ---- 05:03:38\n",
      "Epoch: 1/50, Step: 1000, D Loss: 0.0005, C Loss: 1.5936, lambda: 0.0100 ---- 05:03:49\n",
      "***** Eval Result: 0.4109, Step: 1000\n",
      "***** Test Result: 0.1527, Step: 1000\n",
      "Epoch: 1/50, Step: 1100, D Loss: 0.0002, C Loss: 1.6326, lambda: 0.0100 ---- 05:04:12\n",
      "Epoch: 2/50, Step: 1200, D Loss: 0.0039, C Loss: 1.4984, lambda: 0.0197 ---- 05:04:24\n",
      "Epoch: 2/50, Step: 1300, D Loss: 0.0585, C Loss: 1.3361, lambda: 0.0197 ---- 05:04:36\n",
      "Epoch: 2/50, Step: 1400, D Loss: 0.5846, C Loss: 1.2051, lambda: 0.0197 ---- 05:04:47\n",
      "Epoch: 2/50, Step: 1500, D Loss: 0.9486, C Loss: 1.1596, lambda: 0.0197 ---- 05:04:59\n",
      "***** Eval Result: 0.5267, Step: 1500\n",
      "***** Test Result: 0.1417, Step: 1500\n",
      "Epoch: 2/50, Step: 1600, D Loss: 0.2303, C Loss: 1.4294, lambda: 0.0197 ---- 05:05:22\n",
      "Epoch: 2/50, Step: 1700, D Loss: 0.2856, C Loss: 0.9587, lambda: 0.0197 ---- 05:05:34\n",
      "Epoch: 2/50, Step: 1800, D Loss: 0.5122, C Loss: 1.0200, lambda: 0.0197 ---- 05:05:46\n",
      "Epoch: 2/50, Step: 1900, D Loss: 0.4454, C Loss: 0.9944, lambda: 0.0197 ---- 05:05:57\n",
      "Epoch: 2/50, Step: 2000, D Loss: 0.6222, C Loss: 0.9869, lambda: 0.0197 ---- 05:06:09\n",
      "***** Eval Result: 0.6810, Step: 2000\n",
      "***** Test Result: 0.2321, Step: 2000\n",
      "Epoch: 2/50, Step: 2100, D Loss: 0.5616, C Loss: 1.1430, lambda: 0.0197 ---- 05:06:32\n",
      "Epoch: 2/50, Step: 2200, D Loss: 0.5359, C Loss: 0.8062, lambda: 0.0197 ---- 05:06:44\n",
      "Epoch: 3/50, Step: 2300, D Loss: 0.6704, C Loss: 0.7058, lambda: 0.0291 ---- 05:06:56\n",
      "Epoch: 3/50, Step: 2400, D Loss: 0.4984, C Loss: 0.6060, lambda: 0.0291 ---- 05:07:08\n",
      "Epoch: 3/50, Step: 2500, D Loss: 0.4760, C Loss: 0.7205, lambda: 0.0291 ---- 05:07:19\n",
      "***** Eval Result: 0.7755, Step: 2500\n",
      "***** Test Result: 0.2369, Step: 2500\n",
      "Epoch: 3/50, Step: 2600, D Loss: 0.5096, C Loss: 0.7371, lambda: 0.0291 ---- 05:07:43\n",
      "Epoch: 3/50, Step: 2700, D Loss: 0.5223, C Loss: 0.5786, lambda: 0.0291 ---- 05:07:54\n",
      "Epoch: 3/50, Step: 2800, D Loss: 0.4285, C Loss: 0.5126, lambda: 0.0291 ---- 05:08:06\n",
      "Epoch: 3/50, Step: 2900, D Loss: 0.5448, C Loss: 0.7248, lambda: 0.0291 ---- 05:08:18\n",
      "Epoch: 3/50, Step: 3000, D Loss: 0.7950, C Loss: 0.6897, lambda: 0.0291 ---- 05:08:30\n",
      "***** Eval Result: 0.7785, Step: 3000\n",
      "***** Test Result: 0.3020, Step: 3000\n",
      "Epoch: 3/50, Step: 3100, D Loss: 0.5503, C Loss: 0.6002, lambda: 0.0291 ---- 05:08:53\n",
      "Epoch: 3/50, Step: 3200, D Loss: 0.5556, C Loss: 0.5445, lambda: 0.0291 ---- 05:09:05\n",
      "Epoch: 3/50, Step: 3300, D Loss: 0.5110, C Loss: 0.8335, lambda: 0.0291 ---- 05:09:16\n",
      "Epoch: 3/50, Step: 3400, D Loss: 0.4534, C Loss: 0.3082, lambda: 0.0291 ---- 05:09:28\n",
      "Epoch: 4/50, Step: 3500, D Loss: 0.5571, C Loss: 0.8694, lambda: 0.0380 ---- 05:09:40\n",
      "***** Eval Result: 0.8471, Step: 3500\n",
      "***** Test Result: 0.4423, Step: 3500\n",
      "Epoch: 4/50, Step: 3600, D Loss: 0.4709, C Loss: 0.4638, lambda: 0.0380 ---- 05:10:03\n",
      "Epoch: 4/50, Step: 3700, D Loss: 0.4971, C Loss: 0.4442, lambda: 0.0380 ---- 05:10:15\n",
      "Epoch: 4/50, Step: 3800, D Loss: 0.6292, C Loss: 0.4018, lambda: 0.0380 ---- 05:10:27\n",
      "Epoch: 4/50, Step: 3900, D Loss: 0.5812, C Loss: 0.4390, lambda: 0.0380 ---- 05:10:39\n",
      "Epoch: 4/50, Step: 4000, D Loss: 0.6481, C Loss: 0.4291, lambda: 0.0380 ---- 05:10:50\n",
      "***** Eval Result: 0.8606, Step: 4000\n",
      "***** Test Result: 0.5339, Step: 4000\n",
      "Epoch: 4/50, Step: 4100, D Loss: 0.5225, C Loss: 0.4377, lambda: 0.0380 ---- 05:11:14\n",
      "Epoch: 4/50, Step: 4200, D Loss: 0.4767, C Loss: 0.3852, lambda: 0.0380 ---- 05:11:26\n",
      "Epoch: 4/50, Step: 4300, D Loss: 0.5352, C Loss: 0.5635, lambda: 0.0380 ---- 05:11:38\n",
      "Epoch: 4/50, Step: 4400, D Loss: 0.4002, C Loss: 0.5772, lambda: 0.0380 ---- 05:11:49\n",
      "Epoch: 4/50, Step: 4500, D Loss: 0.4657, C Loss: 0.3809, lambda: 0.0380 ---- 05:12:01\n",
      "***** Eval Result: 0.8717, Step: 4500\n",
      "***** Test Result: 0.5237, Step: 4500\n",
      "Epoch: 5/50, Step: 4600, D Loss: 0.7070, C Loss: 0.6881, lambda: 0.0462 ---- 05:12:25\n",
      "Epoch: 5/50, Step: 4700, D Loss: 0.5732, C Loss: 0.3553, lambda: 0.0462 ---- 05:12:37\n",
      "Epoch: 5/50, Step: 4800, D Loss: 0.5339, C Loss: 0.6049, lambda: 0.0462 ---- 05:12:48\n",
      "Epoch: 5/50, Step: 4900, D Loss: 0.4430, C Loss: 0.3934, lambda: 0.0462 ---- 05:13:00\n",
      "Epoch: 5/50, Step: 5000, D Loss: 0.7249, C Loss: 0.5416, lambda: 0.0462 ---- 05:13:12\n",
      "***** Eval Result: 0.8804, Step: 5000\n",
      "***** Test Result: 0.5626, Step: 5000\n",
      "Epoch: 5/50, Step: 5100, D Loss: 0.5678, C Loss: 0.5490, lambda: 0.0462 ---- 05:13:35\n",
      "Epoch: 5/50, Step: 5200, D Loss: 0.5748, C Loss: 0.4730, lambda: 0.0462 ---- 05:13:47\n",
      "Epoch: 5/50, Step: 5300, D Loss: 0.7102, C Loss: 0.3995, lambda: 0.0462 ---- 05:13:59\n",
      "Epoch: 5/50, Step: 5400, D Loss: 0.5964, C Loss: 0.4751, lambda: 0.0462 ---- 05:14:11\n",
      "Epoch: 5/50, Step: 5500, D Loss: 0.5123, C Loss: 0.4331, lambda: 0.0462 ---- 05:14:23\n",
      "***** Eval Result: 0.8916, Step: 5500\n",
      "***** Test Result: 0.6027, Step: 5500\n",
      "Epoch: 5/50, Step: 5600, D Loss: 0.4789, C Loss: 0.5269, lambda: 0.0462 ---- 05:14:46\n",
      "Epoch: 5/50, Step: 5700, D Loss: 0.5325, C Loss: 0.3520, lambda: 0.0462 ---- 05:14:58\n",
      "Epoch: 6/50, Step: 5800, D Loss: 0.6009, C Loss: 0.4594, lambda: 0.0537 ---- 05:15:10\n",
      "Epoch: 6/50, Step: 5900, D Loss: 0.5688, C Loss: 0.2313, lambda: 0.0537 ---- 05:15:22\n",
      "Epoch: 6/50, Step: 6000, D Loss: 0.6117, C Loss: 0.2893, lambda: 0.0537 ---- 05:15:34\n",
      "***** Eval Result: 0.9002, Step: 6000\n",
      "***** Test Result: 0.6322, Step: 6000\n",
      "Epoch: 6/50, Step: 6100, D Loss: 0.6891, C Loss: 0.4049, lambda: 0.0537 ---- 05:15:57\n",
      "Epoch: 6/50, Step: 6200, D Loss: 0.7071, C Loss: 0.3127, lambda: 0.0537 ---- 05:16:09\n",
      "Epoch: 6/50, Step: 6300, D Loss: 0.6026, C Loss: 0.5781, lambda: 0.0537 ---- 05:16:21\n",
      "Epoch: 6/50, Step: 6400, D Loss: 0.8371, C Loss: 0.7243, lambda: 0.0537 ---- 05:16:33\n",
      "Epoch: 6/50, Step: 6500, D Loss: 0.6844, C Loss: 0.2270, lambda: 0.0537 ---- 05:16:45\n",
      "***** Eval Result: 0.8971, Step: 6500\n",
      "***** Test Result: 0.6153, Step: 6500\n",
      "Epoch: 6/50, Step: 6600, D Loss: 0.4836, C Loss: 0.2554, lambda: 0.0537 ---- 05:17:08\n",
      "Epoch: 6/50, Step: 6700, D Loss: 0.8116, C Loss: 0.5517, lambda: 0.0537 ---- 05:17:20\n",
      "Epoch: 6/50, Step: 6800, D Loss: 0.6032, C Loss: 0.3929, lambda: 0.0537 ---- 05:17:31\n",
      "Epoch: 7/50, Step: 6900, D Loss: 0.6236, C Loss: 0.4743, lambda: 0.0604 ---- 05:17:43\n",
      "Epoch: 7/50, Step: 7000, D Loss: 0.6168, C Loss: 0.4456, lambda: 0.0604 ---- 05:17:55\n",
      "***** Eval Result: 0.9063, Step: 7000\n",
      "***** Test Result: 0.6676, Step: 7000\n",
      "Epoch: 7/50, Step: 7100, D Loss: 0.5485, C Loss: 0.2861, lambda: 0.0604 ---- 05:18:19\n",
      "Epoch: 7/50, Step: 7200, D Loss: 0.5878, C Loss: 0.2468, lambda: 0.0604 ---- 05:18:30\n",
      "Epoch: 7/50, Step: 7300, D Loss: 0.5722, C Loss: 0.2619, lambda: 0.0604 ---- 05:18:42\n",
      "Epoch: 7/50, Step: 7400, D Loss: 0.4900, C Loss: 0.2791, lambda: 0.0604 ---- 05:18:54\n",
      "Epoch: 7/50, Step: 7500, D Loss: 0.6456, C Loss: 0.3075, lambda: 0.0604 ---- 05:19:06\n",
      "***** Eval Result: 0.9076, Step: 7500\n",
      "***** Test Result: 0.6359, Step: 7500\n",
      "Epoch: 7/50, Step: 7600, D Loss: 0.5340, C Loss: 0.6536, lambda: 0.0604 ---- 05:19:29\n",
      "Epoch: 7/50, Step: 7700, D Loss: 0.5707, C Loss: 0.3468, lambda: 0.0604 ---- 05:19:41\n",
      "Epoch: 7/50, Step: 7800, D Loss: 0.5463, C Loss: 0.2784, lambda: 0.0604 ---- 05:19:53\n",
      "Epoch: 7/50, Step: 7900, D Loss: 0.6524, C Loss: 0.2050, lambda: 0.0604 ---- 05:20:05\n",
      "Epoch: 7/50, Step: 8000, D Loss: 0.7291, C Loss: 0.3005, lambda: 0.0604 ---- 05:20:17\n",
      "***** Eval Result: 0.9063, Step: 8000\n"
     ]
    },
    {
     "name": "stdout",
     "output_type": "stream",
     "text": [
      "***** Test Result: 0.6501, Step: 8000\n",
      "Epoch: 8/50, Step: 8100, D Loss: 0.6352, C Loss: 0.3296, lambda: 0.0664 ---- 05:20:40\n",
      "Epoch: 8/50, Step: 8200, D Loss: 0.5349, C Loss: 0.3655, lambda: 0.0664 ---- 05:20:52\n",
      "Epoch: 8/50, Step: 8300, D Loss: 0.5734, C Loss: 0.3377, lambda: 0.0664 ---- 05:21:04\n",
      "Epoch: 8/50, Step: 8400, D Loss: 0.6532, C Loss: 0.2262, lambda: 0.0664 ---- 05:21:16\n",
      "Epoch: 8/50, Step: 8500, D Loss: 0.6611, C Loss: 0.4979, lambda: 0.0664 ---- 05:21:27\n",
      "***** Eval Result: 0.9125, Step: 8500\n",
      "***** Test Result: 0.5969, Step: 8500\n",
      "Epoch: 8/50, Step: 8600, D Loss: 0.6962, C Loss: 0.2419, lambda: 0.0664 ---- 05:21:51\n",
      "Epoch: 8/50, Step: 8700, D Loss: 0.7327, C Loss: 0.1832, lambda: 0.0664 ---- 05:22:03\n",
      "Epoch: 8/50, Step: 8800, D Loss: 0.7048, C Loss: 0.1743, lambda: 0.0664 ---- 05:22:14\n",
      "Epoch: 8/50, Step: 8900, D Loss: 0.6131, C Loss: 0.3559, lambda: 0.0664 ---- 05:22:26\n",
      "Epoch: 8/50, Step: 9000, D Loss: 0.5771, C Loss: 0.3586, lambda: 0.0664 ---- 05:22:38\n",
      "***** Eval Result: 0.9025, Step: 9000\n",
      "***** Test Result: 0.5954, Step: 9000\n",
      "Epoch: 8/50, Step: 9100, D Loss: 0.7245, C Loss: 0.3096, lambda: 0.0664 ---- 05:23:02\n",
      "Epoch: 9/50, Step: 9200, D Loss: 0.6771, C Loss: 0.2895, lambda: 0.0716 ---- 05:23:14\n",
      "Epoch: 9/50, Step: 9300, D Loss: 0.5683, C Loss: 0.2814, lambda: 0.0716 ---- 05:23:25\n",
      "Epoch: 9/50, Step: 9400, D Loss: 0.5106, C Loss: 0.1552, lambda: 0.0716 ---- 05:23:37\n",
      "Epoch: 9/50, Step: 9500, D Loss: 1.1197, C Loss: 0.2053, lambda: 0.0716 ---- 05:23:49\n",
      "***** Eval Result: 0.8962, Step: 9500\n",
      "***** Test Result: 0.5640, Step: 9500\n",
      "Epoch: 9/50, Step: 9600, D Loss: 0.6222, C Loss: 0.1985, lambda: 0.0716 ---- 05:24:13\n",
      "Epoch: 9/50, Step: 9700, D Loss: 0.8413, C Loss: 0.3386, lambda: 0.0716 ---- 05:24:24\n",
      "Epoch: 9/50, Step: 9800, D Loss: 0.6937, C Loss: 0.6270, lambda: 0.0716 ---- 05:24:36\n",
      "Epoch: 9/50, Step: 9900, D Loss: 0.6613, C Loss: 0.4191, lambda: 0.0716 ---- 05:24:48\n",
      "Epoch: 9/50, Step: 10000, D Loss: 0.5680, C Loss: 0.2223, lambda: 0.0716 ---- 05:25:00\n",
      "***** Eval Result: 0.8793, Step: 10000\n",
      "***** Test Result: 0.5462, Step: 10000\n",
      "Epoch: 9/50, Step: 10100, D Loss: 0.6566, C Loss: 0.1952, lambda: 0.0716 ---- 05:25:24\n",
      "Epoch: 9/50, Step: 10200, D Loss: 0.6388, C Loss: 0.2520, lambda: 0.0716 ---- 05:25:35\n",
      "Epoch: 10/50, Step: 10300, D Loss: 0.6708, C Loss: 0.2036, lambda: 0.0762 ---- 05:25:47\n",
      "Epoch: 10/50, Step: 10400, D Loss: 0.6783, C Loss: 0.1710, lambda: 0.0762 ---- 05:25:59\n",
      "Epoch: 10/50, Step: 10500, D Loss: 0.6731, C Loss: 0.2229, lambda: 0.0762 ---- 05:26:11\n",
      "***** Eval Result: 0.9208, Step: 10500\n",
      "***** Test Result: 0.6155, Step: 10500\n",
      "Epoch: 10/50, Step: 10600, D Loss: 0.4567, C Loss: 0.4108, lambda: 0.0762 ---- 05:26:34\n",
      "Epoch: 10/50, Step: 10700, D Loss: 0.7692, C Loss: 0.3315, lambda: 0.0762 ---- 05:26:46\n",
      "Epoch: 10/50, Step: 10800, D Loss: 0.6784, C Loss: 0.1957, lambda: 0.0762 ---- 05:26:58\n",
      "Epoch: 10/50, Step: 10900, D Loss: 0.6620, C Loss: 0.1862, lambda: 0.0762 ---- 05:27:10\n",
      "Epoch: 10/50, Step: 11000, D Loss: 0.8434, C Loss: 0.1614, lambda: 0.0762 ---- 05:27:22\n",
      "***** Eval Result: 0.9126, Step: 11000\n",
      "***** Test Result: 0.6517, Step: 11000\n",
      "Epoch: 10/50, Step: 11100, D Loss: 0.6752, C Loss: 0.3935, lambda: 0.0762 ---- 05:27:45\n",
      "Epoch: 10/50, Step: 11200, D Loss: 0.6664, C Loss: 0.3606, lambda: 0.0762 ---- 05:27:57\n",
      "Epoch: 10/50, Step: 11300, D Loss: 0.6985, C Loss: 0.3488, lambda: 0.0762 ---- 05:28:09\n",
      "Epoch: 10/50, Step: 11400, D Loss: 0.5847, C Loss: 0.4803, lambda: 0.0762 ---- 05:28:21\n",
      "Epoch: 11/50, Step: 11500, D Loss: 0.6371, C Loss: 0.2857, lambda: 0.0800 ---- 05:28:32\n",
      "***** Eval Result: 0.9237, Step: 11500\n",
      "***** Test Result: 0.6684, Step: 11500\n",
      "Epoch: 11/50, Step: 11600, D Loss: 0.7290, C Loss: 0.3362, lambda: 0.0800 ---- 05:28:56\n",
      "Epoch: 11/50, Step: 11700, D Loss: 0.7596, C Loss: 0.1072, lambda: 0.0800 ---- 05:29:08\n",
      "Epoch: 11/50, Step: 11800, D Loss: 0.6930, C Loss: 0.1947, lambda: 0.0800 ---- 05:29:19\n",
      "Epoch: 11/50, Step: 11900, D Loss: 0.5973, C Loss: 0.2631, lambda: 0.0800 ---- 05:29:31\n",
      "Epoch: 11/50, Step: 12000, D Loss: 0.5811, C Loss: 0.1807, lambda: 0.0800 ---- 05:29:43\n",
      "***** Eval Result: 0.9239, Step: 12000\n",
      "***** Test Result: 0.6797, Step: 12000\n",
      "Epoch: 11/50, Step: 12100, D Loss: 0.6432, C Loss: 0.1218, lambda: 0.0800 ---- 05:30:06\n",
      "Epoch: 11/50, Step: 12200, D Loss: 0.7053, C Loss: 0.3202, lambda: 0.0800 ---- 05:30:18\n",
      "Epoch: 11/50, Step: 12300, D Loss: 0.8706, C Loss: 0.2393, lambda: 0.0800 ---- 05:30:30\n",
      "Epoch: 11/50, Step: 12400, D Loss: 0.5230, C Loss: 0.2860, lambda: 0.0800 ---- 05:30:42\n",
      "Epoch: 11/50, Step: 12500, D Loss: 0.7248, C Loss: 0.3032, lambda: 0.0800 ---- 05:30:54\n",
      "***** Eval Result: 0.9186, Step: 12500\n",
      "***** Test Result: 0.6774, Step: 12500\n",
      "Epoch: 12/50, Step: 12600, D Loss: 0.6800, C Loss: 0.1415, lambda: 0.0834 ---- 05:31:17\n",
      "Epoch: 12/50, Step: 12700, D Loss: 0.6507, C Loss: 0.2672, lambda: 0.0834 ---- 05:31:29\n",
      "Epoch: 12/50, Step: 12800, D Loss: 0.6329, C Loss: 0.1292, lambda: 0.0834 ---- 05:31:41\n",
      "Epoch: 12/50, Step: 12900, D Loss: 0.7246, C Loss: 0.2567, lambda: 0.0834 ---- 05:31:53\n",
      "Epoch: 12/50, Step: 13000, D Loss: 0.6386, C Loss: 0.0786, lambda: 0.0834 ---- 05:32:04\n",
      "***** Eval Result: 0.9270, Step: 13000\n",
      "***** Test Result: 0.6818, Step: 13000\n",
      "Epoch: 12/50, Step: 13100, D Loss: 0.6335, C Loss: 0.2575, lambda: 0.0834 ---- 05:32:28\n",
      "Epoch: 12/50, Step: 13200, D Loss: 0.5984, C Loss: 0.1589, lambda: 0.0834 ---- 05:32:40\n",
      "Epoch: 12/50, Step: 13300, D Loss: 0.5519, C Loss: 0.2038, lambda: 0.0834 ---- 05:32:51\n",
      "Epoch: 12/50, Step: 13400, D Loss: 0.3842, C Loss: 0.1297, lambda: 0.0834 ---- 05:33:03\n",
      "Epoch: 12/50, Step: 13500, D Loss: 0.5891, C Loss: 0.3834, lambda: 0.0834 ---- 05:33:15\n",
      "***** Eval Result: 0.9178, Step: 13500\n",
      "***** Test Result: 0.6655, Step: 13500\n",
      "Epoch: 12/50, Step: 13600, D Loss: 0.5545, C Loss: 0.2708, lambda: 0.0834 ---- 05:33:39\n",
      "Epoch: 12/50, Step: 13700, D Loss: 0.6658, C Loss: 0.2829, lambda: 0.0834 ---- 05:33:51\n",
      "Epoch: 13/50, Step: 13800, D Loss: 0.6602, C Loss: 0.1830, lambda: 0.0862 ---- 05:34:02\n",
      "Epoch: 13/50, Step: 13900, D Loss: 0.7629, C Loss: 0.1834, lambda: 0.0862 ---- 05:34:14\n",
      "Epoch: 13/50, Step: 14000, D Loss: 0.7015, C Loss: 0.3641, lambda: 0.0862 ---- 05:34:26\n",
      "***** Eval Result: 0.9323, Step: 14000\n",
      "***** Test Result: 0.6985, Step: 14000\n",
      "Epoch: 13/50, Step: 14100, D Loss: 0.6557, C Loss: 0.3565, lambda: 0.0862 ---- 05:34:49\n",
      "Epoch: 13/50, Step: 14200, D Loss: 0.6613, C Loss: 0.5909, lambda: 0.0862 ---- 05:35:01\n",
      "Epoch: 13/50, Step: 14300, D Loss: 0.6422, C Loss: 0.1572, lambda: 0.0862 ---- 05:35:13\n",
      "Epoch: 13/50, Step: 14400, D Loss: 0.7341, C Loss: 0.3684, lambda: 0.0862 ---- 05:35:25\n",
      "Epoch: 13/50, Step: 14500, D Loss: 0.6276, C Loss: 0.3475, lambda: 0.0862 ---- 05:35:37\n",
      "***** Eval Result: 0.9151, Step: 14500\n",
      "***** Test Result: 0.6613, Step: 14500\n",
      "Epoch: 13/50, Step: 14600, D Loss: 0.6461, C Loss: 0.2455, lambda: 0.0862 ---- 05:36:00\n",
      "Epoch: 13/50, Step: 14700, D Loss: 0.7097, C Loss: 0.1403, lambda: 0.0862 ---- 05:36:12\n",
      "Epoch: 13/50, Step: 14800, D Loss: 0.7134, C Loss: 0.1805, lambda: 0.0862 ---- 05:36:24\n",
      "Epoch: 14/50, Step: 14900, D Loss: 0.8413, C Loss: 0.2645, lambda: 0.0885 ---- 05:36:35\n",
      "Epoch: 14/50, Step: 15000, D Loss: 0.6949, C Loss: 0.1435, lambda: 0.0885 ---- 05:36:47\n",
      "***** Eval Result: 0.9276, Step: 15000\n",
      "***** Test Result: 0.7006, Step: 15000\n",
      "Epoch: 14/50, Step: 15100, D Loss: 0.6448, C Loss: 0.1410, lambda: 0.0885 ---- 05:37:11\n",
      "Epoch: 14/50, Step: 15200, D Loss: 0.6633, C Loss: 0.2330, lambda: 0.0885 ---- 05:37:22\n",
      "Epoch: 14/50, Step: 15300, D Loss: 0.5817, C Loss: 0.1998, lambda: 0.0885 ---- 05:37:34\n",
      "Epoch: 14/50, Step: 15400, D Loss: 0.6382, C Loss: 0.0969, lambda: 0.0885 ---- 05:37:46\n",
      "Epoch: 14/50, Step: 15500, D Loss: 0.7531, C Loss: 0.2040, lambda: 0.0885 ---- 05:37:58\n",
      "***** Eval Result: 0.9247, Step: 15500\n",
      "***** Test Result: 0.6911, Step: 15500\n",
      "Epoch: 14/50, Step: 15600, D Loss: 0.6919, C Loss: 0.1289, lambda: 0.0885 ---- 05:38:22\n",
      "Epoch: 14/50, Step: 15700, D Loss: 0.7320, C Loss: 0.1816, lambda: 0.0885 ---- 05:38:33\n",
      "Epoch: 14/50, Step: 15800, D Loss: 0.6551, C Loss: 0.2338, lambda: 0.0885 ---- 05:38:45\n",
      "Epoch: 14/50, Step: 15900, D Loss: 0.5078, C Loss: 0.3531, lambda: 0.0885 ---- 05:38:57\n",
      "Epoch: 14/50, Step: 16000, D Loss: 0.6018, C Loss: 0.1600, lambda: 0.0885 ---- 05:39:09\n"
     ]
    },
    {
     "name": "stdout",
     "output_type": "stream",
     "text": [
      "***** Eval Result: 0.9231, Step: 16000\n",
      "***** Test Result: 0.6458, Step: 16000\n",
      "Epoch: 15/50, Step: 16100, D Loss: 0.7629, C Loss: 0.2981, lambda: 0.0905 ---- 05:39:32\n",
      "Epoch: 15/50, Step: 16200, D Loss: 0.6047, C Loss: 0.3546, lambda: 0.0905 ---- 05:39:44\n",
      "Epoch: 15/50, Step: 16300, D Loss: 0.6628, C Loss: 0.1468, lambda: 0.0905 ---- 05:39:56\n",
      "Epoch: 15/50, Step: 16400, D Loss: 0.6806, C Loss: 0.1953, lambda: 0.0905 ---- 05:40:08\n",
      "Epoch: 15/50, Step: 16500, D Loss: 0.6021, C Loss: 0.1075, lambda: 0.0905 ---- 05:40:20\n",
      "***** Eval Result: 0.9227, Step: 16500\n",
      "***** Test Result: 0.6705, Step: 16500\n",
      "Epoch: 15/50, Step: 16600, D Loss: 0.6942, C Loss: 0.3199, lambda: 0.0905 ---- 05:40:43\n",
      "Epoch: 15/50, Step: 16700, D Loss: 0.7544, C Loss: 0.1337, lambda: 0.0905 ---- 05:40:55\n",
      "Epoch: 15/50, Step: 16800, D Loss: 0.5320, C Loss: 0.4549, lambda: 0.0905 ---- 05:41:07\n",
      "Epoch: 15/50, Step: 16900, D Loss: 0.7177, C Loss: 0.2345, lambda: 0.0905 ---- 05:41:19\n",
      "Epoch: 15/50, Step: 17000, D Loss: 0.6597, C Loss: 0.1188, lambda: 0.0905 ---- 05:41:30\n",
      "***** Eval Result: 0.9239, Step: 17000\n",
      "***** Test Result: 0.6763, Step: 17000\n",
      "Epoch: 15/50, Step: 17100, D Loss: 0.6159, C Loss: 0.3910, lambda: 0.0905 ---- 05:41:54\n",
      "Epoch: 16/50, Step: 17200, D Loss: 0.6477, C Loss: 0.0982, lambda: 0.0922 ---- 05:42:06\n",
      "Epoch: 16/50, Step: 17300, D Loss: 0.4276, C Loss: 0.1586, lambda: 0.0922 ---- 05:42:17\n",
      "Epoch: 16/50, Step: 17400, D Loss: 0.4686, C Loss: 0.2629, lambda: 0.0922 ---- 05:42:29\n",
      "Epoch: 16/50, Step: 17500, D Loss: 0.6496, C Loss: 0.2714, lambda: 0.0922 ---- 05:42:41\n",
      "***** Eval Result: 0.9060, Step: 17500\n",
      "***** Test Result: 0.6027, Step: 17500\n",
      "Epoch: 16/50, Step: 17600, D Loss: 0.7818, C Loss: 0.2586, lambda: 0.0922 ---- 05:43:05\n",
      "Epoch: 16/50, Step: 17700, D Loss: 0.5909, C Loss: 0.2434, lambda: 0.0922 ---- 05:43:16\n",
      "Epoch: 16/50, Step: 17800, D Loss: 0.7725, C Loss: 0.1807, lambda: 0.0922 ---- 05:43:28\n",
      "Epoch: 16/50, Step: 17900, D Loss: 0.6590, C Loss: 0.2184, lambda: 0.0922 ---- 05:43:40\n",
      "Epoch: 16/50, Step: 18000, D Loss: 0.7890, C Loss: 0.2371, lambda: 0.0922 ---- 05:43:52\n",
      "***** Eval Result: 0.9304, Step: 18000\n",
      "***** Test Result: 0.6966, Step: 18000\n",
      "Epoch: 16/50, Step: 18100, D Loss: 0.6533, C Loss: 0.1092, lambda: 0.0922 ---- 05:44:15\n",
      "Epoch: 16/50, Step: 18200, D Loss: 0.6528, C Loss: 0.1468, lambda: 0.0922 ---- 05:44:27\n",
      "Epoch: 16/50, Step: 18300, D Loss: 0.6609, C Loss: 0.1995, lambda: 0.0922 ---- 05:44:39\n",
      "Epoch: 17/50, Step: 18400, D Loss: 0.6412, C Loss: 0.0616, lambda: 0.0935 ---- 05:44:51\n",
      "Epoch: 17/50, Step: 18500, D Loss: 0.6861, C Loss: 0.2071, lambda: 0.0935 ---- 05:45:03\n",
      "***** Eval Result: 0.9186, Step: 18500\n",
      "***** Test Result: 0.6915, Step: 18500\n",
      "Epoch: 17/50, Step: 18600, D Loss: 0.7380, C Loss: 0.2305, lambda: 0.0935 ---- 05:45:26\n",
      "Epoch: 17/50, Step: 18700, D Loss: 0.7863, C Loss: 0.0753, lambda: 0.0935 ---- 05:45:38\n",
      "Epoch: 17/50, Step: 18800, D Loss: 0.6982, C Loss: 0.1125, lambda: 0.0935 ---- 05:45:50\n",
      "Epoch: 17/50, Step: 18900, D Loss: 0.6193, C Loss: 0.0618, lambda: 0.0935 ---- 05:46:02\n",
      "Epoch: 17/50, Step: 19000, D Loss: 0.5580, C Loss: 0.2194, lambda: 0.0935 ---- 05:46:14\n",
      "***** Eval Result: 0.9302, Step: 19000\n",
      "***** Test Result: 0.6282, Step: 19000\n",
      "Epoch: 17/50, Step: 19100, D Loss: 0.7510, C Loss: 0.1406, lambda: 0.0935 ---- 05:46:37\n",
      "Epoch: 17/50, Step: 19200, D Loss: 0.5696, C Loss: 0.0403, lambda: 0.0935 ---- 05:46:49\n",
      "Epoch: 17/50, Step: 19300, D Loss: 0.9475, C Loss: 0.4207, lambda: 0.0935 ---- 05:47:01\n",
      "Epoch: 17/50, Step: 19400, D Loss: 0.7154, C Loss: 0.1911, lambda: 0.0935 ---- 05:47:13\n",
      "Epoch: 18/50, Step: 19500, D Loss: 0.8384, C Loss: 0.1979, lambda: 0.0947 ---- 05:47:25\n",
      "***** Eval Result: 0.9281, Step: 19500\n",
      "***** Test Result: 0.6545, Step: 19500\n",
      "Epoch: 18/50, Step: 19600, D Loss: 0.6472, C Loss: 0.1258, lambda: 0.0947 ---- 05:47:48\n",
      "Epoch: 18/50, Step: 19700, D Loss: 0.6581, C Loss: 0.1959, lambda: 0.0947 ---- 05:48:00\n",
      "Epoch: 18/50, Step: 19800, D Loss: 0.6366, C Loss: 0.1557, lambda: 0.0947 ---- 05:48:11\n",
      "Epoch: 18/50, Step: 19900, D Loss: 0.6629, C Loss: 0.1340, lambda: 0.0947 ---- 05:48:23\n",
      "Epoch: 18/50, Step: 20000, D Loss: 0.6881, C Loss: 0.2156, lambda: 0.0947 ---- 05:48:35\n",
      "***** Eval Result: 0.9324, Step: 20000\n",
      "***** Test Result: 0.6652, Step: 20000\n",
      "Epoch: 18/50, Step: 20100, D Loss: 0.6753, C Loss: 0.1746, lambda: 0.0947 ---- 05:48:58\n",
      "Epoch: 18/50, Step: 20200, D Loss: 0.6881, C Loss: 0.1340, lambda: 0.0947 ---- 05:49:10\n",
      "Epoch: 18/50, Step: 20300, D Loss: 0.7168, C Loss: 0.1087, lambda: 0.0947 ---- 05:49:22\n",
      "Epoch: 18/50, Step: 20400, D Loss: 0.7025, C Loss: 0.1081, lambda: 0.0947 ---- 05:49:34\n",
      "Epoch: 18/50, Step: 20500, D Loss: 0.5537, C Loss: 0.1367, lambda: 0.0947 ---- 05:49:45\n",
      "***** Eval Result: 0.9208, Step: 20500\n",
      "***** Test Result: 0.6723, Step: 20500\n",
      "Epoch: 19/50, Step: 20600, D Loss: 0.7078, C Loss: 0.2383, lambda: 0.0956 ---- 05:50:09\n",
      "Epoch: 19/50, Step: 20700, D Loss: 0.6620, C Loss: 0.2164, lambda: 0.0956 ---- 05:50:20\n",
      "Epoch: 19/50, Step: 20800, D Loss: 0.6248, C Loss: 0.1192, lambda: 0.0956 ---- 05:50:32\n",
      "Epoch: 19/50, Step: 20900, D Loss: 0.7490, C Loss: 0.1363, lambda: 0.0956 ---- 05:50:44\n",
      "Epoch: 19/50, Step: 21000, D Loss: 0.7416, C Loss: 0.0743, lambda: 0.0956 ---- 05:50:56\n",
      "***** Eval Result: 0.9272, Step: 21000\n",
      "***** Test Result: 0.6132, Step: 21000\n",
      "Epoch: 19/50, Step: 21100, D Loss: 0.7308, C Loss: 0.1421, lambda: 0.0956 ---- 05:51:20\n",
      "Epoch: 19/50, Step: 21200, D Loss: 0.6671, C Loss: 0.2583, lambda: 0.0956 ---- 05:51:31\n",
      "Epoch: 19/50, Step: 21300, D Loss: 0.9227, C Loss: 0.1773, lambda: 0.0956 ---- 05:51:43\n",
      "Epoch: 19/50, Step: 21400, D Loss: 0.6823, C Loss: 0.2497, lambda: 0.0956 ---- 05:51:55\n",
      "Epoch: 19/50, Step: 21500, D Loss: 0.7321, C Loss: 0.1458, lambda: 0.0956 ---- 05:52:07\n",
      "***** Eval Result: 0.9366, Step: 21500\n",
      "***** Test Result: 0.6706, Step: 21500\n",
      "Epoch: 19/50, Step: 21600, D Loss: 0.7526, C Loss: 0.1884, lambda: 0.0956 ---- 05:52:30\n",
      "Epoch: 19/50, Step: 21700, D Loss: 0.6387, C Loss: 0.1487, lambda: 0.0956 ---- 05:52:42\n",
      "Epoch: 20/50, Step: 21800, D Loss: 0.6727, C Loss: 0.1368, lambda: 0.0964 ---- 05:52:54\n",
      "Epoch: 20/50, Step: 21900, D Loss: 0.6263, C Loss: 0.1252, lambda: 0.0964 ---- 05:53:06\n",
      "Epoch: 20/50, Step: 22000, D Loss: 0.6301, C Loss: 0.1613, lambda: 0.0964 ---- 05:53:17\n",
      "***** Eval Result: 0.9351, Step: 22000\n",
      "***** Test Result: 0.6348, Step: 22000\n",
      "Epoch: 20/50, Step: 22100, D Loss: 0.6883, C Loss: 0.0670, lambda: 0.0964 ---- 05:53:41\n",
      "Epoch: 20/50, Step: 22200, D Loss: 0.6426, C Loss: 0.0965, lambda: 0.0964 ---- 05:53:53\n",
      "Epoch: 20/50, Step: 22300, D Loss: 0.6478, C Loss: 0.1160, lambda: 0.0964 ---- 05:54:04\n",
      "Epoch: 20/50, Step: 22400, D Loss: 0.6585, C Loss: 0.1726, lambda: 0.0964 ---- 05:54:16\n",
      "Epoch: 20/50, Step: 22500, D Loss: 0.8283, C Loss: 0.1341, lambda: 0.0964 ---- 05:54:28\n",
      "***** Eval Result: 0.9309, Step: 22500\n",
      "***** Test Result: 0.6640, Step: 22500\n",
      "Epoch: 20/50, Step: 22600, D Loss: 0.7356, C Loss: 0.1285, lambda: 0.0964 ---- 05:54:51\n",
      "Epoch: 20/50, Step: 22700, D Loss: 0.5780, C Loss: 0.0632, lambda: 0.0964 ---- 05:55:03\n",
      "Epoch: 20/50, Step: 22800, D Loss: 0.5232, C Loss: 0.3178, lambda: 0.0964 ---- 05:55:15\n",
      "Epoch: 21/50, Step: 22900, D Loss: 0.6393, C Loss: 0.2047, lambda: 0.0970 ---- 05:55:27\n",
      "Epoch: 21/50, Step: 23000, D Loss: 0.3342, C Loss: 0.0790, lambda: 0.0970 ---- 05:55:39\n",
      "***** Eval Result: 0.9241, Step: 23000\n",
      "***** Test Result: 0.6807, Step: 23000\n",
      "Epoch: 21/50, Step: 23100, D Loss: 0.7734, C Loss: 0.1513, lambda: 0.0970 ---- 05:56:02\n",
      "Epoch: 21/50, Step: 23200, D Loss: 0.6142, C Loss: 0.1350, lambda: 0.0970 ---- 05:56:14\n",
      "Epoch: 21/50, Step: 23300, D Loss: 0.7215, C Loss: 0.1118, lambda: 0.0970 ---- 05:56:26\n",
      "Epoch: 21/50, Step: 23400, D Loss: 0.7023, C Loss: 0.1225, lambda: 0.0970 ---- 05:56:38\n",
      "Epoch: 21/50, Step: 23500, D Loss: 0.6802, C Loss: 0.0938, lambda: 0.0970 ---- 05:56:50\n",
      "***** Eval Result: 0.9267, Step: 23500\n",
      "***** Test Result: 0.7064, Step: 23500\n",
      "Epoch: 21/50, Step: 23600, D Loss: 0.5898, C Loss: 0.1366, lambda: 0.0970 ---- 05:57:13\n"
     ]
    },
    {
     "ename": "KeyboardInterrupt",
     "evalue": "",
     "output_type": "error",
     "traceback": [
      "\u001b[0;31m---------------------------------------------------------------------------\u001b[0m",
      "\u001b[0;31mKeyboardInterrupt\u001b[0m                         Traceback (most recent call last)",
      "\u001b[0;32m<ipython-input-24-6642b64a01b9>\u001b[0m in \u001b[0;36m<module>\u001b[0;34m()\u001b[0m\n\u001b[1;32m      3\u001b[0m         \u001b[0mtgt_images\u001b[0m\u001b[0;34m,\u001b[0m \u001b[0m_\u001b[0m \u001b[0;34m=\u001b[0m \u001b[0msample_mnist\u001b[0m\u001b[0;34m(\u001b[0m\u001b[0mstep\u001b[0m\u001b[0;34m,\u001b[0m \u001b[0mn_batches\u001b[0m\u001b[0;34m)\u001b[0m\u001b[0;34m\u001b[0m\u001b[0m\n\u001b[1;32m      4\u001b[0m         \u001b[0;31m# Training Discriminator\u001b[0m\u001b[0;34m\u001b[0m\u001b[0;34m\u001b[0m\u001b[0m\n\u001b[0;32m----> 5\u001b[0;31m         \u001b[0msrc\u001b[0m\u001b[0;34m,\u001b[0m \u001b[0mlabels\u001b[0m\u001b[0;34m,\u001b[0m \u001b[0mtgt\u001b[0m \u001b[0;34m=\u001b[0m \u001b[0msrc_images\u001b[0m\u001b[0;34m.\u001b[0m\u001b[0mto\u001b[0m\u001b[0;34m(\u001b[0m\u001b[0mDEVICE\u001b[0m\u001b[0;34m)\u001b[0m\u001b[0;34m,\u001b[0m \u001b[0mlabels\u001b[0m\u001b[0;34m.\u001b[0m\u001b[0mto\u001b[0m\u001b[0;34m(\u001b[0m\u001b[0mDEVICE\u001b[0m\u001b[0;34m)\u001b[0m\u001b[0;34m,\u001b[0m \u001b[0mtgt_images\u001b[0m\u001b[0;34m.\u001b[0m\u001b[0mto\u001b[0m\u001b[0;34m(\u001b[0m\u001b[0mDEVICE\u001b[0m\u001b[0;34m)\u001b[0m\u001b[0;34m\u001b[0m\u001b[0m\n\u001b[0m\u001b[1;32m      6\u001b[0m \u001b[0;34m\u001b[0m\u001b[0m\n\u001b[1;32m      7\u001b[0m         \u001b[0mx\u001b[0m \u001b[0;34m=\u001b[0m \u001b[0mtorch\u001b[0m\u001b[0;34m.\u001b[0m\u001b[0mcat\u001b[0m\u001b[0;34m(\u001b[0m\u001b[0;34m[\u001b[0m\u001b[0msrc\u001b[0m\u001b[0;34m,\u001b[0m \u001b[0mtgt\u001b[0m\u001b[0;34m]\u001b[0m\u001b[0;34m,\u001b[0m \u001b[0mdim\u001b[0m\u001b[0;34m=\u001b[0m\u001b[0;36m0\u001b[0m\u001b[0;34m)\u001b[0m\u001b[0;34m\u001b[0m\u001b[0m\n",
      "\u001b[0;31mKeyboardInterrupt\u001b[0m: "
     ]
    }
   ],
   "source": [
    "for epoch in range(1, max_epoch+1):\n",
    "    for idx, (src_images, labels) in enumerate(svhn_loader):\n",
    "        tgt_images, _ = sample_mnist(step, n_batches)\n",
    "        # Training Discriminator\n",
    "        src, labels, tgt = src_images.to(DEVICE), labels.to(DEVICE), tgt_images.to(DEVICE)\n",
    "        \n",
    "        x = torch.cat([src, tgt], dim=0)\n",
    "        h = F(x)\n",
    "        y = D(h.detach())\n",
    "        \n",
    "        Ld = bce(y, D_labels)\n",
    "        D.zero_grad()\n",
    "        Ld.backward()\n",
    "        D_opt.step()\n",
    "        \n",
    "        \n",
    "        c = C(h[:batch_size])\n",
    "        y = D(h)\n",
    "        Lc = xe(c, labels)\n",
    "        Ld = bce(y, D_labels)\n",
    "        lamda = 0.1*get_lambda(epoch, max_epoch)\n",
    "        Ltot = Lc -lamda*Ld\n",
    "        \n",
    "        \n",
    "        F.zero_grad()\n",
    "        C.zero_grad()\n",
    "        D.zero_grad()\n",
    "        \n",
    "        Ltot.backward()\n",
    "        \n",
    "        C_opt.step()\n",
    "        F_opt.step()\n",
    "        \n",
    "        if step % 100 == 0:\n",
    "            dt = datetime.datetime.now().strftime('%H:%M:%S')\n",
    "            print('Epoch: {}/{}, Step: {}, D Loss: {:.4f}, C Loss: {:.4f}, lambda: {:.4f} ---- {}'.format(epoch, max_epoch, step, Ld.item(), Lc.item(), lamda, dt))\n",
    "            ll_c.append(Lc)\n",
    "            ll_d.append(Ld)\n",
    "        \n",
    "        if step % 500 == 0:\n",
    "            F.eval()\n",
    "            C.eval()\n",
    "            with torch.no_grad():\n",
    "                corrects = torch.zeros(1).to(DEVICE)\n",
    "                for idx, (src, labels) in enumerate(eval_loader):\n",
    "                    src, labels = src.to(DEVICE), labels.to(DEVICE)\n",
    "                    c = C(F(src))\n",
    "                    _, preds = torch.max(c, 1)\n",
    "                    corrects += (preds == labels).sum()\n",
    "                acc = corrects.item() / len(eval_loader.dataset)\n",
    "                print('***** Eval Result: {:.4f}, Step: {}'.format(acc, step))\n",
    "                \n",
    "                corrects = torch.zeros(1).to(DEVICE)\n",
    "                for idx, (tgt, labels) in enumerate(test_loader):\n",
    "                    tgt, labels = tgt.to(DEVICE), labels.to(DEVICE)\n",
    "                    c = C(F(tgt))\n",
    "                    _, preds = torch.max(c, 1)\n",
    "                    corrects += (preds == labels).sum()\n",
    "                acc = corrects.item() / len(test_loader.dataset)\n",
    "                print('***** Test Result: {:.4f}, Step: {}'.format(acc, step))\n",
    "                acc_lst.append(acc)\n",
    "                \n",
    "            F.train()\n",
    "            C.train()\n",
    "        step += 1"
   ]
  },
  {
   "cell_type": "markdown",
   "metadata": {
    "colab_type": "text",
    "id": "a8rIVAtx36C5"
   },
   "source": [
    "## Visualize Sample"
   ]
  },
  {
   "cell_type": "code",
   "execution_count": 26,
   "metadata": {},
   "outputs": [],
   "source": [
    "import matplotlib.pyplot as plt"
   ]
  },
  {
   "cell_type": "code",
   "execution_count": 27,
   "metadata": {},
   "outputs": [
    {
     "data": {
      "text/plain": [
       "[<matplotlib.lines.Line2D at 0x7f2fd0a8bb70>]"
      ]
     },
     "execution_count": 27,
     "metadata": {},
     "output_type": "execute_result"
    },
    {
     "data": {
      "image/png": "[encoded data removed]",
      "text/plain": [
       "<matplotlib.figure.Figure at 0x7f2fd0973d30>"
      ]
     },
     "metadata": {},
     "output_type": "display_data"
    }
   ],
   "source": [
    "# XE loss\n",
    "plt.plot(range(len(ll_c)), ll_c)"
   ]
  },
  {
   "cell_type": "code",
   "execution_count": 28,
   "metadata": {},
   "outputs": [
    {
     "data": {
      "text/plain": [
       "[<matplotlib.lines.Line2D at 0x7f2f21ea03c8>]"
      ]
     },
     "execution_count": 28,
     "metadata": {},
     "output_type": "execute_result"
    },
    {
     "data": {
      "image/png": "[encoded data removed]",
      "text/plain": [
       "<matplotlib.figure.Figure at 0x7f2fd0aa91d0>"
      ]
     },
     "metadata": {},
     "output_type": "display_data"
    }
   ],
   "source": [
    "# Discriminator loss\n",
    "plt.plot(range(len(ll_d)), ll_d)"
   ]
  },
  {
   "cell_type": "code",
   "execution_count": 29,
   "metadata": {},
   "outputs": [
    {
     "data": {
      "text/plain": [
       "[<matplotlib.lines.Line2D at 0x7f2f21cd3b38>]"
      ]
     },
     "execution_count": 29,
     "metadata": {},
     "output_type": "execute_result"
    },
    {
     "data": {
      "image/png": "[encoded data removed]",
      "text/plain": [
       "<matplotlib.figure.Figure at 0x7f2f21fb0898>"
      ]
     },
     "metadata": {},
     "output_type": "display_data"
    }
   ],
   "source": [
    "# Accuracy\n",
    "plt.plot(range(len(acc_lst)), acc_lst)"
   ]
  },
  {
   "cell_type": "code",
   "execution_count": 30,
   "metadata": {},
   "outputs": [
    {
     "data": {
      "text/plain": [
       "0.7064"
      ]
     },
     "execution_count": 30,
     "metadata": {},
     "output_type": "execute_result"
    }
   ],
   "source": [
    "max(acc_lst)"
   ]
  },
  {
   "cell_type": "code",
   "execution_count": 0,
   "metadata": {
    "colab": {},
    "colab_type": "code",
    "collapsed": true,
    "id": "ZjunDavN36C_"
   },
   "outputs": [],
   "source": []
  }
 ],
 "metadata": {
  "accelerator": "GPU",
  "colab": {
   "collapsed_sections": [],
   "name": "DANN.ipynb",
   "provenance": [],
   "version": "0.3.2"
  },
  "kernelspec": {
   "display_name": "Python 3",
   "language": "python",
   "name": "python3"
  },
  "language_info": {
   "codemirror_mode": {
    "name": "ipython",
    "version": 3
   },
   "file_extension": ".py",
   "mimetype": "text/x-python",
   "name": "python",
   "nbconvert_exporter": "python",
   "pygments_lexer": "ipython3",
   "version": "3.8.5"
  }
 },
 "nbformat": 4,
 "nbformat_minor": 1
}
